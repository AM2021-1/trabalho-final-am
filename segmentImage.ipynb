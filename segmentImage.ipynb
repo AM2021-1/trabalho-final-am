{
 "cells": [
  {
   "cell_type": "code",
   "execution_count": 1,
   "id": "fbb2a250",
   "metadata": {},
   "outputs": [],
   "source": [
    "from PIL import Image\n",
    "from IPython.display import display\n",
    "import pytesseract\n",
    "from pdf2image import convert_from_path, convert_from_bytes\n",
    "import cv2"
   ]
  },
  {
   "cell_type": "code",
   "execution_count": 37,
   "id": "c2331d55",
   "metadata": {
    "scrolled": true
   },
   "outputs": [],
   "source": [
    "# pytesseract.image_to_string(Image.open('shonbs.png'))\n",
    "# pytesseract.image_to_boxes(Image.open('shonbs.png'))\n",
    "# pytesseract.image_to_data(Image.open('shonbs.png'))"
   ]
  },
  {
   "cell_type": "code",
   "execution_count": 21,
   "id": "26dceb43",
   "metadata": {},
   "outputs": [],
   "source": [
    "# images = convert_from_path('knbs.pdf')"
   ]
  },
  {
   "cell_type": "code",
   "execution_count": null,
   "id": "210f9f70",
   "metadata": {
    "scrolled": false
   },
   "outputs": [],
   "source": [
    "# for i, index in images:\n",
    "#     i.save(f'/pdf/{index}.png')\n",
    "# for i in images:\n",
    "#     display(i)"
   ]
  },
  {
   "cell_type": "code",
   "execution_count": null,
   "id": "64d43b7c",
   "metadata": {},
   "outputs": [],
   "source": [
    "img = cv2.imread('shonbs.png')\n",
    "\n",
    "d = pytesseract.image_to_data(img, output_type=pytesseract.Output.DICT)\n",
    "\n",
    "n_boxes = len(d['level'])\n",
    "for i in range(n_boxes):\n",
    "    if d['level'][i] == 2:\n",
    "        (x, y, w, h) = (d['left'][i], d['top'][i], d['width'][i], d['height'][i])\n",
    "        cv2.rectangle(img, (x, y), (x + w, y + h), (0, 255, 0), 2)\n",
    "\n",
    "cv2.startWindowThread()\n",
    "cv2.imshow('img', img)\n",
    "cv2.waitKey()"
   ]
  },
  {
   "cell_type": "code",
   "execution_count": 8,
   "id": "164f030c",
   "metadata": {},
   "outputs": [
    {
     "data": {
      "text/plain": [
       "dict_keys(['level', 'page_num', 'block_num', 'par_num', 'line_num', 'word_num', 'left', 'top', 'width', 'height', 'conf', 'text'])"
      ]
     },
     "execution_count": 8,
     "metadata": {},
     "output_type": "execute_result"
    }
   ],
   "source": [
    "d.keys()"
   ]
  },
  {
   "cell_type": "code",
   "execution_count": null,
   "id": "3fe12bb9",
   "metadata": {},
   "outputs": [],
   "source": []
  }
 ],
 "metadata": {
  "kernelspec": {
   "display_name": "Python 3 (ipykernel)",
   "language": "python",
   "name": "python3"
  },
  "language_info": {
   "codemirror_mode": {
    "name": "ipython",
    "version": 3
   },
   "file_extension": ".py",
   "mimetype": "text/x-python",
   "name": "python",
   "nbconvert_exporter": "python",
   "pygments_lexer": "ipython3",
   "version": "3.9.7"
  }
 },
 "nbformat": 4,
 "nbformat_minor": 5
}
